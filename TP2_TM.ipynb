{
 "cells": [
  {
   "cell_type": "code",
   "execution_count": 3,
   "metadata": {
    "colab": {
     "base_uri": "https://localhost:8080/"
    },
    "id": "cQgS6XtrqEH6",
    "outputId": "15dab483-f4fd-4b62-af97-83db737dac82"
   },
   "outputs": [
    {
     "name": "stderr",
     "output_type": "stream",
     "text": [
      "[nltk_data] Downloading package stopwords to /root/nltk_data...\n",
      "[nltk_data]   Package stopwords is already up-to-date!\n"
     ]
    }
   ],
   "source": [
    "import pandas as pd\n",
    "import re\n",
    "import string\n",
    "import nltk\n",
    "from nltk.corpus import stopwords\n",
    "nltk.download('stopwords')\n",
    "import re\n",
    "from nltk.stem import WordNetLemmatizer\n"
   ]
  },
  {
   "cell_type": "code",
   "execution_count": 7,
   "metadata": {
    "colab": {
     "base_uri": "https://localhost:8080/",
     "height": 815
    },
    "id": "ZKOqjGMpTXJG",
    "outputId": "965ec627-0129-4f96-84da-65cbc65a8138"
   },
   "outputs": [
    {
     "data": {
      "text/html": [
       "\n",
       "  <div id=\"df-51c9e62b-acf3-4626-9b19-47ce6f4add6f\">\n",
       "    <div class=\"colab-df-container\">\n",
       "      <div>\n",
       "<style scoped>\n",
       "    .dataframe tbody tr th:only-of-type {\n",
       "        vertical-align: middle;\n",
       "    }\n",
       "\n",
       "    .dataframe tbody tr th {\n",
       "        vertical-align: top;\n",
       "    }\n",
       "\n",
       "    .dataframe thead th {\n",
       "        text-align: right;\n",
       "    }\n",
       "</style>\n",
       "<table border=\"1\" class=\"dataframe\">\n",
       "  <thead>\n",
       "    <tr style=\"text-align: right;\">\n",
       "      <th></th>\n",
       "      <th>CommentId</th>\n",
       "      <th>VideoId</th>\n",
       "      <th>Text</th>\n",
       "      <th>IsToxic</th>\n",
       "      <th>IsAbusive</th>\n",
       "      <th>IsThreat</th>\n",
       "      <th>IsProvocative</th>\n",
       "      <th>IsObscene</th>\n",
       "      <th>IsHatespeech</th>\n",
       "      <th>IsRacist</th>\n",
       "      <th>IsNationalist</th>\n",
       "      <th>IsSexist</th>\n",
       "      <th>IsHomophobic</th>\n",
       "      <th>IsReligiousHate</th>\n",
       "      <th>IsRadicalism</th>\n",
       "    </tr>\n",
       "  </thead>\n",
       "  <tbody>\n",
       "    <tr>\n",
       "      <th>0</th>\n",
       "      <td>Ugg2KwwX0V8-aXgCoAEC</td>\n",
       "      <td>04kJtp6pVXI</td>\n",
       "      <td>If only people would just take a step back and...</td>\n",
       "      <td>False</td>\n",
       "      <td>False</td>\n",
       "      <td>False</td>\n",
       "      <td>False</td>\n",
       "      <td>False</td>\n",
       "      <td>False</td>\n",
       "      <td>False</td>\n",
       "      <td>False</td>\n",
       "      <td>False</td>\n",
       "      <td>False</td>\n",
       "      <td>False</td>\n",
       "      <td>False</td>\n",
       "    </tr>\n",
       "    <tr>\n",
       "      <th>1</th>\n",
       "      <td>Ugg2s5AzSPioEXgCoAEC</td>\n",
       "      <td>04kJtp6pVXI</td>\n",
       "      <td>Law enforcement is not trained to shoot to app...</td>\n",
       "      <td>True</td>\n",
       "      <td>True</td>\n",
       "      <td>False</td>\n",
       "      <td>False</td>\n",
       "      <td>False</td>\n",
       "      <td>False</td>\n",
       "      <td>False</td>\n",
       "      <td>False</td>\n",
       "      <td>False</td>\n",
       "      <td>False</td>\n",
       "      <td>False</td>\n",
       "      <td>False</td>\n",
       "    </tr>\n",
       "    <tr>\n",
       "      <th>2</th>\n",
       "      <td>Ugg3dWTOxryFfHgCoAEC</td>\n",
       "      <td>04kJtp6pVXI</td>\n",
       "      <td>\\nDont you reckon them 'black lives matter' ba...</td>\n",
       "      <td>True</td>\n",
       "      <td>True</td>\n",
       "      <td>False</td>\n",
       "      <td>False</td>\n",
       "      <td>True</td>\n",
       "      <td>False</td>\n",
       "      <td>False</td>\n",
       "      <td>False</td>\n",
       "      <td>False</td>\n",
       "      <td>False</td>\n",
       "      <td>False</td>\n",
       "      <td>False</td>\n",
       "    </tr>\n",
       "    <tr>\n",
       "      <th>3</th>\n",
       "      <td>Ugg7Gd006w1MPngCoAEC</td>\n",
       "      <td>04kJtp6pVXI</td>\n",
       "      <td>There are a very large number of people who do...</td>\n",
       "      <td>False</td>\n",
       "      <td>False</td>\n",
       "      <td>False</td>\n",
       "      <td>False</td>\n",
       "      <td>False</td>\n",
       "      <td>False</td>\n",
       "      <td>False</td>\n",
       "      <td>False</td>\n",
       "      <td>False</td>\n",
       "      <td>False</td>\n",
       "      <td>False</td>\n",
       "      <td>False</td>\n",
       "    </tr>\n",
       "    <tr>\n",
       "      <th>4</th>\n",
       "      <td>Ugg8FfTbbNF8IngCoAEC</td>\n",
       "      <td>04kJtp6pVXI</td>\n",
       "      <td>The Arab dude is absolutely right, he should h...</td>\n",
       "      <td>False</td>\n",
       "      <td>False</td>\n",
       "      <td>False</td>\n",
       "      <td>False</td>\n",
       "      <td>False</td>\n",
       "      <td>False</td>\n",
       "      <td>False</td>\n",
       "      <td>False</td>\n",
       "      <td>False</td>\n",
       "      <td>False</td>\n",
       "      <td>False</td>\n",
       "      <td>False</td>\n",
       "    </tr>\n",
       "    <tr>\n",
       "      <th>...</th>\n",
       "      <td>...</td>\n",
       "      <td>...</td>\n",
       "      <td>...</td>\n",
       "      <td>...</td>\n",
       "      <td>...</td>\n",
       "      <td>...</td>\n",
       "      <td>...</td>\n",
       "      <td>...</td>\n",
       "      <td>...</td>\n",
       "      <td>...</td>\n",
       "      <td>...</td>\n",
       "      <td>...</td>\n",
       "      <td>...</td>\n",
       "      <td>...</td>\n",
       "      <td>...</td>\n",
       "    </tr>\n",
       "    <tr>\n",
       "      <th>995</th>\n",
       "      <td>Ugi5ADt10EdDz3gCoAEC</td>\n",
       "      <td>XRuCW80L9mA</td>\n",
       "      <td>I remember that they sent in the national defe...</td>\n",
       "      <td>False</td>\n",
       "      <td>False</td>\n",
       "      <td>False</td>\n",
       "      <td>False</td>\n",
       "      <td>False</td>\n",
       "      <td>False</td>\n",
       "      <td>False</td>\n",
       "      <td>False</td>\n",
       "      <td>False</td>\n",
       "      <td>False</td>\n",
       "      <td>False</td>\n",
       "      <td>False</td>\n",
       "    </tr>\n",
       "    <tr>\n",
       "      <th>996</th>\n",
       "      <td>Ugifh2DMhBbDkHgCoAEC</td>\n",
       "      <td>XRuCW80L9mA</td>\n",
       "      <td>Stats don`t represent the problem. Race baitin...</td>\n",
       "      <td>True</td>\n",
       "      <td>False</td>\n",
       "      <td>False</td>\n",
       "      <td>False</td>\n",
       "      <td>False</td>\n",
       "      <td>True</td>\n",
       "      <td>True</td>\n",
       "      <td>False</td>\n",
       "      <td>False</td>\n",
       "      <td>False</td>\n",
       "      <td>False</td>\n",
       "      <td>False</td>\n",
       "    </tr>\n",
       "    <tr>\n",
       "      <th>997</th>\n",
       "      <td>Ugj_plbGBjjzYXgCoAEC</td>\n",
       "      <td>XRuCW80L9mA</td>\n",
       "      <td>The quote from the mother... Wow that hit hard...</td>\n",
       "      <td>False</td>\n",
       "      <td>False</td>\n",
       "      <td>False</td>\n",
       "      <td>False</td>\n",
       "      <td>False</td>\n",
       "      <td>False</td>\n",
       "      <td>False</td>\n",
       "      <td>False</td>\n",
       "      <td>False</td>\n",
       "      <td>False</td>\n",
       "      <td>False</td>\n",
       "      <td>False</td>\n",
       "    </tr>\n",
       "    <tr>\n",
       "      <th>998</th>\n",
       "      <td>Ugj0bah1De8xy3gCoAEC</td>\n",
       "      <td>XRuCW80L9mA</td>\n",
       "      <td>this video is so racist</td>\n",
       "      <td>False</td>\n",
       "      <td>False</td>\n",
       "      <td>False</td>\n",
       "      <td>False</td>\n",
       "      <td>False</td>\n",
       "      <td>False</td>\n",
       "      <td>False</td>\n",
       "      <td>False</td>\n",
       "      <td>False</td>\n",
       "      <td>False</td>\n",
       "      <td>False</td>\n",
       "      <td>False</td>\n",
       "    </tr>\n",
       "    <tr>\n",
       "      <th>999</th>\n",
       "      <td>UgjBJKQSoQMQ6ngCoAEC</td>\n",
       "      <td>XRuCW80L9mA</td>\n",
       "      <td>God, the narrator has such an annoying lisp.</td>\n",
       "      <td>False</td>\n",
       "      <td>False</td>\n",
       "      <td>False</td>\n",
       "      <td>False</td>\n",
       "      <td>False</td>\n",
       "      <td>False</td>\n",
       "      <td>False</td>\n",
       "      <td>False</td>\n",
       "      <td>False</td>\n",
       "      <td>False</td>\n",
       "      <td>False</td>\n",
       "      <td>False</td>\n",
       "    </tr>\n",
       "  </tbody>\n",
       "</table>\n",
       "<p>1000 rows × 15 columns</p>\n",
       "</div>\n",
       "      <button class=\"colab-df-convert\" onclick=\"convertToInteractive('df-51c9e62b-acf3-4626-9b19-47ce6f4add6f')\"\n",
       "              title=\"Convert this dataframe to an interactive table.\"\n",
       "              style=\"display:none;\">\n",
       "        \n",
       "  <svg xmlns=\"http://www.w3.org/2000/svg\" height=\"24px\"viewBox=\"0 0 24 24\"\n",
       "       width=\"24px\">\n",
       "    <path d=\"M0 0h24v24H0V0z\" fill=\"none\"/>\n",
       "    <path d=\"M18.56 5.44l.94 2.06.94-2.06 2.06-.94-2.06-.94-.94-2.06-.94 2.06-2.06.94zm-11 1L8.5 8.5l.94-2.06 2.06-.94-2.06-.94L8.5 2.5l-.94 2.06-2.06.94zm10 10l.94 2.06.94-2.06 2.06-.94-2.06-.94-.94-2.06-.94 2.06-2.06.94z\"/><path d=\"M17.41 7.96l-1.37-1.37c-.4-.4-.92-.59-1.43-.59-.52 0-1.04.2-1.43.59L10.3 9.45l-7.72 7.72c-.78.78-.78 2.05 0 2.83L4 21.41c.39.39.9.59 1.41.59.51 0 1.02-.2 1.41-.59l7.78-7.78 2.81-2.81c.8-.78.8-2.07 0-2.86zM5.41 20L4 18.59l7.72-7.72 1.47 1.35L5.41 20z\"/>\n",
       "  </svg>\n",
       "      </button>\n",
       "      \n",
       "  <style>\n",
       "    .colab-df-container {\n",
       "      display:flex;\n",
       "      flex-wrap:wrap;\n",
       "      gap: 12px;\n",
       "    }\n",
       "\n",
       "    .colab-df-convert {\n",
       "      background-color: #E8F0FE;\n",
       "      border: none;\n",
       "      border-radius: 50%;\n",
       "      cursor: pointer;\n",
       "      display: none;\n",
       "      fill: #1967D2;\n",
       "      height: 32px;\n",
       "      padding: 0 0 0 0;\n",
       "      width: 32px;\n",
       "    }\n",
       "\n",
       "    .colab-df-convert:hover {\n",
       "      background-color: #E2EBFA;\n",
       "      box-shadow: 0px 1px 2px rgba(60, 64, 67, 0.3), 0px 1px 3px 1px rgba(60, 64, 67, 0.15);\n",
       "      fill: #174EA6;\n",
       "    }\n",
       "\n",
       "    [theme=dark] .colab-df-convert {\n",
       "      background-color: #3B4455;\n",
       "      fill: #D2E3FC;\n",
       "    }\n",
       "\n",
       "    [theme=dark] .colab-df-convert:hover {\n",
       "      background-color: #434B5C;\n",
       "      box-shadow: 0px 1px 3px 1px rgba(0, 0, 0, 0.15);\n",
       "      filter: drop-shadow(0px 1px 2px rgba(0, 0, 0, 0.3));\n",
       "      fill: #FFFFFF;\n",
       "    }\n",
       "  </style>\n",
       "\n",
       "      <script>\n",
       "        const buttonEl =\n",
       "          document.querySelector('#df-51c9e62b-acf3-4626-9b19-47ce6f4add6f button.colab-df-convert');\n",
       "        buttonEl.style.display =\n",
       "          google.colab.kernel.accessAllowed ? 'block' : 'none';\n",
       "\n",
       "        async function convertToInteractive(key) {\n",
       "          const element = document.querySelector('#df-51c9e62b-acf3-4626-9b19-47ce6f4add6f');\n",
       "          const dataTable =\n",
       "            await google.colab.kernel.invokeFunction('convertToInteractive',\n",
       "                                                     [key], {});\n",
       "          if (!dataTable) return;\n",
       "\n",
       "          const docLinkHtml = 'Like what you see? Visit the ' +\n",
       "            '<a target=\"_blank\" href=https://colab.research.google.com/notebooks/data_table.ipynb>data table notebook</a>'\n",
       "            + ' to learn more about interactive tables.';\n",
       "          element.innerHTML = '';\n",
       "          dataTable['output_type'] = 'display_data';\n",
       "          await google.colab.output.renderOutput(dataTable, element);\n",
       "          const docLink = document.createElement('div');\n",
       "          docLink.innerHTML = docLinkHtml;\n",
       "          element.appendChild(docLink);\n",
       "        }\n",
       "      </script>\n",
       "    </div>\n",
       "  </div>\n",
       "  "
      ],
      "text/plain": [
       "                CommentId      VideoId  \\\n",
       "0    Ugg2KwwX0V8-aXgCoAEC  04kJtp6pVXI   \n",
       "1    Ugg2s5AzSPioEXgCoAEC  04kJtp6pVXI   \n",
       "2    Ugg3dWTOxryFfHgCoAEC  04kJtp6pVXI   \n",
       "3    Ugg7Gd006w1MPngCoAEC  04kJtp6pVXI   \n",
       "4    Ugg8FfTbbNF8IngCoAEC  04kJtp6pVXI   \n",
       "..                    ...          ...   \n",
       "995  Ugi5ADt10EdDz3gCoAEC  XRuCW80L9mA   \n",
       "996  Ugifh2DMhBbDkHgCoAEC  XRuCW80L9mA   \n",
       "997  Ugj_plbGBjjzYXgCoAEC  XRuCW80L9mA   \n",
       "998  Ugj0bah1De8xy3gCoAEC  XRuCW80L9mA   \n",
       "999  UgjBJKQSoQMQ6ngCoAEC  XRuCW80L9mA   \n",
       "\n",
       "                                                  Text  IsToxic  IsAbusive  \\\n",
       "0    If only people would just take a step back and...    False      False   \n",
       "1    Law enforcement is not trained to shoot to app...     True       True   \n",
       "2    \\nDont you reckon them 'black lives matter' ba...     True       True   \n",
       "3    There are a very large number of people who do...    False      False   \n",
       "4    The Arab dude is absolutely right, he should h...    False      False   \n",
       "..                                                 ...      ...        ...   \n",
       "995  I remember that they sent in the national defe...    False      False   \n",
       "996  Stats don`t represent the problem. Race baitin...     True      False   \n",
       "997  The quote from the mother... Wow that hit hard...    False      False   \n",
       "998                            this video is so racist    False      False   \n",
       "999      God, the narrator has such an annoying lisp.     False      False   \n",
       "\n",
       "     IsThreat  IsProvocative  IsObscene  IsHatespeech  IsRacist  \\\n",
       "0       False          False      False         False     False   \n",
       "1       False          False      False         False     False   \n",
       "2       False          False       True         False     False   \n",
       "3       False          False      False         False     False   \n",
       "4       False          False      False         False     False   \n",
       "..        ...            ...        ...           ...       ...   \n",
       "995     False          False      False         False     False   \n",
       "996     False          False      False          True      True   \n",
       "997     False          False      False         False     False   \n",
       "998     False          False      False         False     False   \n",
       "999     False          False      False         False     False   \n",
       "\n",
       "     IsNationalist  IsSexist  IsHomophobic  IsReligiousHate  IsRadicalism  \n",
       "0            False     False         False            False         False  \n",
       "1            False     False         False            False         False  \n",
       "2            False     False         False            False         False  \n",
       "3            False     False         False            False         False  \n",
       "4            False     False         False            False         False  \n",
       "..             ...       ...           ...              ...           ...  \n",
       "995          False     False         False            False         False  \n",
       "996          False     False         False            False         False  \n",
       "997          False     False         False            False         False  \n",
       "998          False     False         False            False         False  \n",
       "999          False     False         False            False         False  \n",
       "\n",
       "[1000 rows x 15 columns]"
      ]
     },
     "execution_count": 7,
     "metadata": {},
     "output_type": "execute_result"
    }
   ],
   "source": [
    "df = pd.read_csv('/youtoxic_english_1000.csv')\n",
    "df.head()\n",
    "df"
   ]
  },
  {
   "cell_type": "code",
   "execution_count": 8,
   "metadata": {
    "colab": {
     "base_uri": "https://localhost:8080/"
    },
    "id": "vV5L2Z_6Trpp",
    "outputId": "1ea84681-63bd-41a5-fd19-20e27f50f7a0"
   },
   "outputs": [
    {
     "data": {
      "text/plain": [
       "0      If only people would just take a step back and...\n",
       "1      Law enforcement is not trained to shoot to app...\n",
       "2      \\nDont you reckon them black lives matter bann...\n",
       "3      There are a very large number of people who do...\n",
       "4      The Arab dude is absolutely right he should ha...\n",
       "                             ...                        \n",
       "995    I remember that they sent in the national defe...\n",
       "996    Stats dont represent the problem Race baiting ...\n",
       "997    The quote from the mother Wow that hit hard Ve...\n",
       "998                              this video is so racist\n",
       "999          God the narrator has such an annoying lisp \n",
       "Name: Text, Length: 1000, dtype: object"
      ]
     },
     "execution_count": 8,
     "metadata": {},
     "output_type": "execute_result"
    }
   ],
   "source": [
    "\n",
    "# Définition d'une fonction permettant de supprimer les ponctuations.\n",
    "def remove_punctuation(text):\n",
    "    text = ''.join([char for char in text if char not in string.punctuation])\n",
    "    return text\n",
    "# Appliquez cette fonction sur la colonne 'Texte'\n",
    "text= df['Text'].apply(remove_punctuation)\n",
    "text"
   ]
  },
  {
   "cell_type": "code",
   "execution_count": 9,
   "metadata": {
    "colab": {
     "base_uri": "https://localhost:8080/"
    },
    "id": "Srn9hi26ZOrT",
    "outputId": "772c5d46-1a67-4258-e781-76efa75514dd"
   },
   "outputs": [
    {
     "data": {
      "text/plain": [
       "0      If only people would just take a step back and...\n",
       "1      Law enforcement is not trained to shoot to app...\n",
       "2      \\nDont you reckon them  black lives matter  ba...\n",
       "3      There are a very large number of people who do...\n",
       "4      The Arab dude is absolutely right  he should h...\n",
       "                             ...                        \n",
       "995    I remember that they sent in the national defe...\n",
       "996    Stats don t represent the problem  Race baitin...\n",
       "997    The quote from the mother    Wow that hit hard...\n",
       "998                              this video is so racist\n",
       "999        God  the narrator has such an annoying lisp  \n",
       "Name: Text, Length: 1000, dtype: object"
      ]
     },
     "execution_count": 9,
     "metadata": {},
     "output_type": "execute_result"
    }
   ],
   "source": [
    "\n",
    "def remove_special_chars(text):\n",
    "    return re.sub(r'[^A-Za-z0-9\\s]', ' ', text)\n",
    "\n",
    "# Appliquez la fonction à la colonne 'Texte'\n",
    "text= df['Text'].apply(remove_special_chars)\n",
    "\n",
    "text"
   ]
  },
  {
   "cell_type": "code",
   "execution_count": 10,
   "metadata": {
    "colab": {
     "base_uri": "https://localhost:8080/"
    },
    "id": "SPrSYIb-Trrm",
    "outputId": "f1ca7ada-edc7-4b69-937f-e70f11e7a510"
   },
   "outputs": [
    {
     "data": {
      "text/plain": [
       "0      if only people would just take a step back and...\n",
       "1      law enforcement is not trained to shoot to app...\n",
       "2      \\ndont you reckon them  black lives matter  ba...\n",
       "3      there are a very large number of people who do...\n",
       "4      the arab dude is absolutely right  he should h...\n",
       "                             ...                        \n",
       "995    i remember that they sent in the national defe...\n",
       "996    stats don t represent the problem  race baitin...\n",
       "997    the quote from the mother    wow that hit hard...\n",
       "998                              this video is so racist\n",
       "999        god  the narrator has such an annoying lisp  \n",
       "Name: Text, Length: 1000, dtype: object"
      ]
     },
     "execution_count": 10,
     "metadata": {},
     "output_type": "execute_result"
    }
   ],
   "source": [
    "# Définition d'une fonction qui permet de convertir les lettres en minuscules\n",
    "def convert_to_lowercase(text):\n",
    "    return text.lower()\n",
    "\n",
    "text1 = text.apply(convert_to_lowercase)\n",
    "text1\n"
   ]
  },
  {
   "cell_type": "code",
   "execution_count": 11,
   "metadata": {
    "id": "zwz5fKSxTruE"
   },
   "outputs": [],
   "source": [
    "stop_words = set(stopwords.words('english'))  \n",
    "def remove_stopwords(sentence):\n",
    "    words = sentence.split()\n",
    "    filtered_words = [word for word in words if word.lower() not in stop_words]\n",
    "    return ' '.join(filtered_words)\n",
    "text2 = [remove_stopwords(sentence) for sentence in text1]\n"
   ]
  },
  {
   "cell_type": "code",
   "execution_count": 12,
   "metadata": {
    "colab": {
     "base_uri": "https://localhost:8080/"
    },
    "id": "1SgL0Wc-fuO9",
    "outputId": "9a595a11-dd4a-4d27-8d1b-595ebe09f980"
   },
   "outputs": [
    {
     "name": "stdout",
     "output_type": "stream",
     "text": [
      "                                                     0\n",
      "0    people would take step back make case anyone e...\n",
      "1    law enforcement trained shoot apprehend traine...\n",
      "2    dont reckon black lives matter banners held wh...\n",
      "3    large number people like police officers calle...\n",
      "4    arab dude absolutely right shot 6 extra time s...\n",
      "..                                                 ...\n",
      "995                     remember sent national defence\n",
      "996  stats represent problem race baiting attitude ...\n",
      "997                 quote mother wow hit hard accurate\n",
      "998                                       video racist\n",
      "999                         god narrator annoying lisp\n",
      "\n",
      "[1000 rows x 1 columns]\n"
     ]
    }
   ],
   "source": [
    "text2 = pd.DataFrame(text2,dtype=str)\n",
    "print(text2)"
   ]
  },
  {
   "cell_type": "code",
   "execution_count": 13,
   "metadata": {
    "colab": {
     "base_uri": "https://localhost:8080/"
    },
    "id": "jjQZsWMxTr1W",
    "outputId": "d8c2baff-2b62-43b0-f267-58e0881d645d"
   },
   "outputs": [
    {
     "name": "stdout",
     "output_type": "stream",
     "text": [
      "                                                     0\n",
      "0    people would take step back make case anyone e...\n",
      "1    law enforcement trained shoot apprehend traine...\n",
      "2    dont reckon black lives matter banners held wh...\n",
      "3    large number people like police officers calle...\n",
      "4    arab dude absolutely right shot 6 extra time s...\n",
      "..                                                 ...\n",
      "995                     remember sent national defence\n",
      "996  stats represent problem race baiting attitude ...\n",
      "997                 quote mother wow hit hard accurate\n",
      "998                                       video racist\n",
      "999                         god narrator annoying lisp\n",
      "\n",
      "[1000 rows x 1 columns]\n"
     ]
    }
   ],
   "source": [
    "# Définition d'une fonction permettant de supprimer les liens\n",
    "text3 = text2.replace(r'http[s]?\\S+|www\\.\\S+', '', regex=True)\n",
    "\n",
    "print(text3)"
   ]
  },
  {
   "cell_type": "code",
   "execution_count": 14,
   "metadata": {
    "id": "1F6mPdtPTr_A"
   },
   "outputs": [],
   "source": [
    "text4 = text3.replace(r'\\d+', ' ', regex=True)\n",
    "text4 = pd.DataFrame(text4,dtype=str)"
   ]
  },
  {
   "cell_type": "code",
   "execution_count": 15,
   "metadata": {
    "colab": {
     "base_uri": "https://localhost:8080/",
     "height": 424
    },
    "id": "V8JWJE83Ur5z",
    "outputId": "f17410f5-51c1-439e-e50c-929519346ac7"
   },
   "outputs": [
    {
     "data": {
      "text/html": [
       "\n",
       "  <div id=\"df-52538712-d983-40cc-bed3-41d93b83ab68\">\n",
       "    <div class=\"colab-df-container\">\n",
       "      <div>\n",
       "<style scoped>\n",
       "    .dataframe tbody tr th:only-of-type {\n",
       "        vertical-align: middle;\n",
       "    }\n",
       "\n",
       "    .dataframe tbody tr th {\n",
       "        vertical-align: top;\n",
       "    }\n",
       "\n",
       "    .dataframe thead th {\n",
       "        text-align: right;\n",
       "    }\n",
       "</style>\n",
       "<table border=\"1\" class=\"dataframe\">\n",
       "  <thead>\n",
       "    <tr style=\"text-align: right;\">\n",
       "      <th></th>\n",
       "      <th>0</th>\n",
       "    </tr>\n",
       "  </thead>\n",
       "  <tbody>\n",
       "    <tr>\n",
       "      <th>0</th>\n",
       "      <td>people would take step back make case anyone e...</td>\n",
       "    </tr>\n",
       "    <tr>\n",
       "      <th>1</th>\n",
       "      <td>law enforcement trained shoot apprehend traine...</td>\n",
       "    </tr>\n",
       "    <tr>\n",
       "      <th>2</th>\n",
       "      <td>dont reckon black lives matter banners held wh...</td>\n",
       "    </tr>\n",
       "    <tr>\n",
       "      <th>3</th>\n",
       "      <td>large number people like police officers calle...</td>\n",
       "    </tr>\n",
       "    <tr>\n",
       "      <th>4</th>\n",
       "      <td>arab dude absolutely right shot   extra time s...</td>\n",
       "    </tr>\n",
       "    <tr>\n",
       "      <th>...</th>\n",
       "      <td>...</td>\n",
       "    </tr>\n",
       "    <tr>\n",
       "      <th>995</th>\n",
       "      <td>remember sent national defence</td>\n",
       "    </tr>\n",
       "    <tr>\n",
       "      <th>996</th>\n",
       "      <td>stats represent problem race baiting attitude ...</td>\n",
       "    </tr>\n",
       "    <tr>\n",
       "      <th>997</th>\n",
       "      <td>quote mother wow hit hard accurate</td>\n",
       "    </tr>\n",
       "    <tr>\n",
       "      <th>998</th>\n",
       "      <td>video racist</td>\n",
       "    </tr>\n",
       "    <tr>\n",
       "      <th>999</th>\n",
       "      <td>god narrator annoying lisp</td>\n",
       "    </tr>\n",
       "  </tbody>\n",
       "</table>\n",
       "<p>1000 rows × 1 columns</p>\n",
       "</div>\n",
       "      <button class=\"colab-df-convert\" onclick=\"convertToInteractive('df-52538712-d983-40cc-bed3-41d93b83ab68')\"\n",
       "              title=\"Convert this dataframe to an interactive table.\"\n",
       "              style=\"display:none;\">\n",
       "        \n",
       "  <svg xmlns=\"http://www.w3.org/2000/svg\" height=\"24px\"viewBox=\"0 0 24 24\"\n",
       "       width=\"24px\">\n",
       "    <path d=\"M0 0h24v24H0V0z\" fill=\"none\"/>\n",
       "    <path d=\"M18.56 5.44l.94 2.06.94-2.06 2.06-.94-2.06-.94-.94-2.06-.94 2.06-2.06.94zm-11 1L8.5 8.5l.94-2.06 2.06-.94-2.06-.94L8.5 2.5l-.94 2.06-2.06.94zm10 10l.94 2.06.94-2.06 2.06-.94-2.06-.94-.94-2.06-.94 2.06-2.06.94z\"/><path d=\"M17.41 7.96l-1.37-1.37c-.4-.4-.92-.59-1.43-.59-.52 0-1.04.2-1.43.59L10.3 9.45l-7.72 7.72c-.78.78-.78 2.05 0 2.83L4 21.41c.39.39.9.59 1.41.59.51 0 1.02-.2 1.41-.59l7.78-7.78 2.81-2.81c.8-.78.8-2.07 0-2.86zM5.41 20L4 18.59l7.72-7.72 1.47 1.35L5.41 20z\"/>\n",
       "  </svg>\n",
       "      </button>\n",
       "      \n",
       "  <style>\n",
       "    .colab-df-container {\n",
       "      display:flex;\n",
       "      flex-wrap:wrap;\n",
       "      gap: 12px;\n",
       "    }\n",
       "\n",
       "    .colab-df-convert {\n",
       "      background-color: #E8F0FE;\n",
       "      border: none;\n",
       "      border-radius: 50%;\n",
       "      cursor: pointer;\n",
       "      display: none;\n",
       "      fill: #1967D2;\n",
       "      height: 32px;\n",
       "      padding: 0 0 0 0;\n",
       "      width: 32px;\n",
       "    }\n",
       "\n",
       "    .colab-df-convert:hover {\n",
       "      background-color: #E2EBFA;\n",
       "      box-shadow: 0px 1px 2px rgba(60, 64, 67, 0.3), 0px 1px 3px 1px rgba(60, 64, 67, 0.15);\n",
       "      fill: #174EA6;\n",
       "    }\n",
       "\n",
       "    [theme=dark] .colab-df-convert {\n",
       "      background-color: #3B4455;\n",
       "      fill: #D2E3FC;\n",
       "    }\n",
       "\n",
       "    [theme=dark] .colab-df-convert:hover {\n",
       "      background-color: #434B5C;\n",
       "      box-shadow: 0px 1px 3px 1px rgba(0, 0, 0, 0.15);\n",
       "      filter: drop-shadow(0px 1px 2px rgba(0, 0, 0, 0.3));\n",
       "      fill: #FFFFFF;\n",
       "    }\n",
       "  </style>\n",
       "\n",
       "      <script>\n",
       "        const buttonEl =\n",
       "          document.querySelector('#df-52538712-d983-40cc-bed3-41d93b83ab68 button.colab-df-convert');\n",
       "        buttonEl.style.display =\n",
       "          google.colab.kernel.accessAllowed ? 'block' : 'none';\n",
       "\n",
       "        async function convertToInteractive(key) {\n",
       "          const element = document.querySelector('#df-52538712-d983-40cc-bed3-41d93b83ab68');\n",
       "          const dataTable =\n",
       "            await google.colab.kernel.invokeFunction('convertToInteractive',\n",
       "                                                     [key], {});\n",
       "          if (!dataTable) return;\n",
       "\n",
       "          const docLinkHtml = 'Like what you see? Visit the ' +\n",
       "            '<a target=\"_blank\" href=https://colab.research.google.com/notebooks/data_table.ipynb>data table notebook</a>'\n",
       "            + ' to learn more about interactive tables.';\n",
       "          element.innerHTML = '';\n",
       "          dataTable['output_type'] = 'display_data';\n",
       "          await google.colab.output.renderOutput(dataTable, element);\n",
       "          const docLink = document.createElement('div');\n",
       "          docLink.innerHTML = docLinkHtml;\n",
       "          element.appendChild(docLink);\n",
       "        }\n",
       "      </script>\n",
       "    </div>\n",
       "  </div>\n",
       "  "
      ],
      "text/plain": [
       "                                                     0\n",
       "0    people would take step back make case anyone e...\n",
       "1    law enforcement trained shoot apprehend traine...\n",
       "2    dont reckon black lives matter banners held wh...\n",
       "3    large number people like police officers calle...\n",
       "4    arab dude absolutely right shot   extra time s...\n",
       "..                                                 ...\n",
       "995                     remember sent national defence\n",
       "996  stats represent problem race baiting attitude ...\n",
       "997                 quote mother wow hit hard accurate\n",
       "998                                       video racist\n",
       "999                         god narrator annoying lisp\n",
       "\n",
       "[1000 rows x 1 columns]"
      ]
     },
     "execution_count": 15,
     "metadata": {},
     "output_type": "execute_result"
    }
   ],
   "source": [
    "text4"
   ]
  },
  {
   "cell_type": "code",
   "execution_count": 16,
   "metadata": {
    "colab": {
     "base_uri": "https://localhost:8080/"
    },
    "id": "nPwotfnCUDR6",
    "outputId": "a5511986-2731-4881-b0ef-d85a48163799"
   },
   "outputs": [
    {
     "name": "stderr",
     "output_type": "stream",
     "text": [
      "[nltk_data] Downloading package punkt to /root/nltk_data...\n",
      "[nltk_data]   Unzipping tokenizers/punkt.zip.\n",
      "[nltk_data] Downloading package averaged_perceptron_tagger to\n",
      "[nltk_data]     /root/nltk_data...\n",
      "[nltk_data]   Unzipping taggers/averaged_perceptron_tagger.zip.\n",
      "[nltk_data] Downloading package wordnet to /root/nltk_data...\n"
     ]
    }
   ],
   "source": [
    "import pandas as pd\n",
    "import nltk\n",
    "from nltk.stem import WordNetLemmatizer\n",
    "# Télécharger les ressources requises.\n",
    "nltk.download('punkt')\n",
    "nltk.download('averaged_perceptron_tagger')\n",
    "nltk.download('wordnet')\n",
    "\n",
    "# Initialize the WordNetLemmatizer\n",
    "lemmatizer = WordNetLemmatizer()\n",
    "\n",
    "# Fonction permettant de réaliser la lemmatisation\n",
    "def lemmatize_text(text):\n",
    "    # Tokenize the text into individual words\n",
    "    words = nltk.word_tokenize(str(text))\n",
    "    \n",
    "    # Effectuer l'étiquetage des parties du discours\n",
    "    pos_tags = nltk.pos_tag(words)\n",
    "    \n",
    "    # Lemmatizer chaque mot en fonction de son étiquette de partie du discours.\n",
    "    lemmatized_words = [lemmatizer.lemmatize(word, pos=tag[0].lower()) if tag[0].lower() in ['a', 'n', 'v'] else lemmatizer.lemmatize(word) for word, tag in pos_tags]\n",
    "    \n",
    "    # Réassemblage des mots lemmatisés en une seule chaîne de caractères\n",
    "    lemmatized_text = ' '.join(lemmatized_words)\n",
    "    \n",
    "    return lemmatized_text\n",
    "\n",
    "#  Appliquer cette fonction\n",
    "text5 = []\n",
    "for i in range(len(text4)):\n",
    "  text5.append(lemmatize_text(text4.iloc[i,0]))\n",
    "\n"
   ]
  },
  {
   "cell_type": "code",
   "execution_count": 17,
   "metadata": {
    "id": "vi5ErfIJooxD"
   },
   "outputs": [],
   "source": [
    "text5 = pd.DataFrame(text5,dtype=str)"
   ]
  },
  {
   "cell_type": "code",
   "execution_count": 18,
   "metadata": {
    "id": "g-vXYDRcaYR-"
   },
   "outputs": [],
   "source": [
    "text6 = text5.replace(r\"’\", \" \",regex=True)"
   ]
  },
  {
   "cell_type": "code",
   "execution_count": 19,
   "metadata": {
    "id": "G6Gyen5ear42"
   },
   "outputs": [],
   "source": [
    "text6 = pd.DataFrame(text6,dtype=str)"
   ]
  },
  {
   "cell_type": "code",
   "execution_count": 20,
   "metadata": {
    "colab": {
     "base_uri": "https://localhost:8080/"
    },
    "id": "OyWgUXkIczS0",
    "outputId": "e0f0ed70-9b1b-4dce-cb02-59560ab4edf0"
   },
   "outputs": [
    {
     "name": "stdout",
     "output_type": "stream",
     "text": [
      "Looking in indexes: https://pypi.org/simple, https://us-python.pkg.dev/colab-wheels/public/simple/\n",
      "Collecting demoji\n",
      "  Downloading demoji-1.1.0-py3-none-any.whl (42 kB)\n",
      "\u001b[2K     \u001b[90m━━━━━━━━━━━━━━━━━━━━━━━━━━━━━━━━━━━━━━━━\u001b[0m \u001b[32m42.9/42.9 kB\u001b[0m \u001b[31m2.8 MB/s\u001b[0m eta \u001b[36m0:00:00\u001b[0m\n",
      "\u001b[?25hInstalling collected packages: demoji\n",
      "Successfully installed demoji-1.1.0\n"
     ]
    }
   ],
   "source": [
    "pip install demoji"
   ]
  },
  {
   "cell_type": "code",
   "execution_count": 22,
   "metadata": {
    "colab": {
     "base_uri": "https://localhost:8080/"
    },
    "id": "gbItVYbDcvHh",
    "outputId": "72933ff9-ec94-4182-9304-2a8f19e389d9"
   },
   "outputs": [
    {
     "name": "stdout",
     "output_type": "stream",
     "text": [
      "                                                     0\n",
      "0    people would take step back make case anyone e...\n",
      "1    law enforcement train shoot apprehend train sh...\n",
      "2    dont reckon black live matter banner hold whit...\n",
      "3    large number people like police officer call c...\n",
      "4    arab dude absolutely right shot extra time sho...\n",
      "..                                                 ...\n",
      "995                     remember sent national defence\n",
      "996  stats represent problem race bait attitude cri...\n",
      "997                 quote mother wow hit hard accurate\n",
      "998                                       video racist\n",
      "999                            god narrator annoy lisp\n",
      "\n",
      "[1000 rows x 1 columns]\n"
     ]
    }
   ],
   "source": [
    "import pandas as pd\n",
    "import re\n",
    "\n",
    "# Remove emojis from all columns\n",
    "text7 = text6.applymap(lambda x: re.sub(r'[^\\w\\s\\d]', ' ', str(x)))\n",
    "\n",
    "# Display the updated DataFrame\n",
    "print(text7)"
   ]
  },
  {
   "cell_type": "code",
   "execution_count": 23,
   "metadata": {
    "colab": {
     "base_uri": "https://localhost:8080/",
     "height": 36
    },
    "id": "LVM8ckjDfZzX",
    "outputId": "ce3eadcf-88ff-4df9-8cd6-c24616de55ca"
   },
   "outputs": [
    {
     "data": {
      "application/vnd.google.colaboratory.intrinsic+json": {
       "type": "string"
      },
      "text/plain": [
       "'masri close get isi america'"
      ]
     },
     "execution_count": 23,
     "metadata": {},
     "output_type": "execute_result"
    }
   ],
   "source": [
    "text7.iloc[12,0]"
   ]
  },
  {
   "cell_type": "code",
   "execution_count": 24,
   "metadata": {
    "id": "6Cgb1kmkUpPA"
   },
   "outputs": [],
   "source": [
    "import pandas as pd\n",
    "import re\n",
    "\n",
    "# Define a function to remove Arabic characters\n",
    "def remove_arabic(text):\n",
    "    arabic_pattern = re.compile('[\\u0600-\\u06FF\\u0750-\\u077F\\u08A0-\\u08FF\\uFB50-\\uFBC2\\uFE70-\\uFEFC]+')\n",
    "    return arabic_pattern.sub('', text)\n",
    "\n",
    "# Apply the function to the 'Text' column\n",
    "text8 = []\n",
    "for i in range(len(text7)):\n",
    "  text8.append(remove_arabic(text7.iloc[i,0]))"
   ]
  },
  {
   "cell_type": "code",
   "execution_count": 25,
   "metadata": {
    "colab": {
     "base_uri": "https://localhost:8080/"
    },
    "id": "jSodH3PQVO6B",
    "outputId": "860cd07a-4647-4794-b706-36f179c9d392"
   },
   "outputs": [
    {
     "name": "stdout",
     "output_type": "stream",
     "text": [
      "                                                     0\n",
      "0    people would take step back make case anyone e...\n",
      "1    law enforcement train shoot apprehend train sh...\n",
      "2    dont reckon black live matter banner hold whit...\n",
      "3    large number people like police officer call c...\n",
      "4    arab dude absolutely right shot extra time sho...\n",
      "..                                                 ...\n",
      "995                     remember sent national defence\n",
      "996  stats represent problem race bait attitude cri...\n",
      "997                 quote mother wow hit hard accurate\n",
      "998                                       video racist\n",
      "999                            god narrator annoy lisp\n",
      "\n",
      "[1000 rows x 1 columns]\n"
     ]
    }
   ],
   "source": [
    "text8 = pd.DataFrame(text8,dtype=str)\n",
    "print(text8)"
   ]
  },
  {
   "cell_type": "code",
   "execution_count": 26,
   "metadata": {
    "colab": {
     "base_uri": "https://localhost:8080/"
    },
    "id": "5Eo9gpkRUG9f",
    "outputId": "d793195e-6100-463e-82e4-130603caedca"
   },
   "outputs": [
    {
     "name": "stderr",
     "output_type": "stream",
     "text": [
      "[nltk_data] Downloading package punkt to /root/nltk_data...\n",
      "[nltk_data]   Package punkt is already up-to-date!\n"
     ]
    }
   ],
   "source": [
    "import nltk\n",
    "nltk.download('punkt')  # Download the necessary tokenizer data\n",
    "\n",
    "from nltk.tokenize import word_tokenize\n",
    "\n",
    "import numpy as np\n",
    "# Tokenize le text\n",
    "tokens = []\n",
    "for i in range(len(text8)):\n",
    "    tokens.append(word_tokenize(text8.iloc[i,0]))\n",
    "\n",
    "series = pd.Series(tokens)"
   ]
  },
  {
   "cell_type": "code",
   "execution_count": 27,
   "metadata": {
    "colab": {
     "base_uri": "https://localhost:8080/"
    },
    "id": "CZ4BY4xBqEIC",
    "outputId": "ab2e75ba-e327-4837-8a55-c39f8dbef252"
   },
   "outputs": [
    {
     "name": "stdout",
     "output_type": "stream",
     "text": [
      "Looking in indexes: https://pypi.org/simple, https://us-python.pkg.dev/colab-wheels/public/simple/\n",
      "Requirement already satisfied: scikit-learn in /usr/local/lib/python3.10/dist-packages (1.2.2)\n",
      "Requirement already satisfied: numpy>=1.17.3 in /usr/local/lib/python3.10/dist-packages (from scikit-learn) (1.22.4)\n",
      "Requirement already satisfied: scipy>=1.3.2 in /usr/local/lib/python3.10/dist-packages (from scikit-learn) (1.10.1)\n",
      "Requirement already satisfied: joblib>=1.1.1 in /usr/local/lib/python3.10/dist-packages (from scikit-learn) (1.2.0)\n",
      "Requirement already satisfied: threadpoolctl>=2.0.0 in /usr/local/lib/python3.10/dist-packages (from scikit-learn) (3.1.0)\n"
     ]
    }
   ],
   "source": [
    "pip install -U scikit-learn"
   ]
  },
  {
   "cell_type": "code",
   "execution_count": null,
   "metadata": {
    "id": "73EK-xweV6Ui"
   },
   "outputs": [],
   "source": [
    "series"
   ]
  },
  {
   "cell_type": "code",
   "execution_count": 28,
   "metadata": {
    "colab": {
     "base_uri": "https://localhost:8080/"
    },
    "id": "r4EHqOy2UNbV",
    "outputId": "897b4f8d-3aa1-43e2-8722-96c902cf70a0"
   },
   "outputs": [
    {
     "name": "stdout",
     "output_type": "stream",
     "text": [
      "  (0, 1000)\t0.09852619410635578\n",
      "  (0, 173)\t0.07498936149405391\n",
      "  (0, 2134)\t0.056179531753487645\n",
      "  (0, 16)\t0.09852619410635578\n",
      "  (0, 1489)\t0.07960235869925945\n",
      "  (0, 2408)\t0.10899665299417195\n",
      "  (0, 1938)\t0.06968125777439463\n",
      "  (0, 2944)\t0.06664999064130382\n",
      "  (0, 1780)\t0.055728582471567874\n",
      "  (0, 1729)\t0.0657611649290922\n",
      "  (0, 2666)\t0.07758527633072347\n",
      "  (0, 2505)\t0.0862765424769258\n",
      "  (0, 1719)\t0.09852619410635578\n",
      "  (0, 323)\t0.10287182717945696\n",
      "  (0, 1063)\t0.06230435756820264\n",
      "  (0, 2482)\t0.08805573521853963\n",
      "  (0, 2824)\t0.08072180994634978\n",
      "  (0, 28)\t0.07758527633072347\n",
      "  (0, 107)\t0.0691318998114433\n",
      "  (0, 2214)\t0.10973033162695463\n",
      "  (0, 3177)\t0.0657611649290922\n",
      "  (0, 91)\t0.07025135105853363\n",
      "  (0, 24)\t0.16649055068766994\n",
      "  (0, 684)\t0.0862765424769258\n",
      "  (0, 2689)\t0.05893362268585154\n",
      "  :\t:\n",
      "  (996, 1640)\t0.1897937386379253\n",
      "  (996, 244)\t0.24667749404610578\n",
      "  (996, 1860)\t0.19424825767123496\n",
      "  (996, 301)\t0.225512993022619\n",
      "  (996, 3274)\t0.21202365376738969\n",
      "  (996, 3095)\t0.19424825767123496\n",
      "  (996, 706)\t0.17736981348867356\n",
      "  (996, 2964)\t0.1858090355799543\n",
      "  (996, 373)\t0.20841905139285818\n",
      "  (996, 2454)\t0.1858090355799543\n",
      "  (996, 2650)\t0.2313429254357333\n",
      "  (996, 3033)\t0.1680336394837995\n",
      "  (996, 2543)\t0.16055192928647882\n",
      "  (997, 1480)\t0.37730906995753144\n",
      "  (997, 17)\t0.4808424571216888\n",
      "  (997, 2542)\t0.44477468784524615\n",
      "  (997, 3544)\t0.3891042264688629\n",
      "  (997, 2075)\t0.37730906995753144\n",
      "  (997, 1421)\t0.3672051754550495\n",
      "  (998, 2548)\t0.7373280657994107\n",
      "  (998, 3421)\t0.6755348424652129\n",
      "  (999, 130)\t0.5460014716382202\n",
      "  (999, 2115)\t0.5460014716382202\n",
      "  (999, 1853)\t0.5153201266932432\n",
      "  (999, 1346)\t0.3717659922083449\n"
     ]
    }
   ],
   "source": [
    "import pandas as pd\n",
    "from sklearn.feature_extraction.text import TfidfVectorizer\n",
    "\n",
    "# Preprocess the phrases and convert them to text\n",
    "series_text = series.apply(lambda x: ' '.join(x))\n",
    "\n",
    "# Initialization du TfidfVectorizer\n",
    "vectorizer = TfidfVectorizer()\n",
    "\n",
    "# Fit and transform the series_text\n",
    "tfidf_matrix = vectorizer.fit_transform(series_text)\n",
    "\n",
    "\n",
    "feature_names = vectorizer.get_feature_names_out()\n",
    "\n",
    "# creation d'une nouvelle  DataFrame avec TF-IDF values\n",
    "df_tfidf = pd.DataFrame(tfidf_matrix.toarray(), columns=feature_names)\n",
    "\n",
    "\n",
    "print(tfidf_matrix)\n"
   ]
  },
  {
   "cell_type": "code",
   "execution_count": 29,
   "metadata": {
    "colab": {
     "base_uri": "https://localhost:8080/"
    },
    "id": "xXgbIZrLUDTk",
    "outputId": "fd98d943-8289-455e-cc40-9569c30de6d4"
   },
   "outputs": [
    {
     "name": "stderr",
     "output_type": "stream",
     "text": [
      "/usr/local/lib/python3.10/dist-packages/sklearn/cluster/_kmeans.py:870: FutureWarning: The default value of `n_init` will change from 10 to 'auto' in 1.4. Set the value of `n_init` explicitly to suppress the warning\n",
      "  warnings.warn(\n"
     ]
    },
    {
     "name": "stdout",
     "output_type": "stream",
     "text": [
      "842\n"
     ]
    }
   ],
   "source": [
    "import pandas as pd\n",
    "from sklearn.feature_extraction.text import TfidfVectorizer\n",
    "from sklearn.cluster import KMeans\n",
    "\n",
    "\n",
    "# Maintenant, appliquons l'algorithme K-means\n",
    "\n",
    "k = 2  # le nombre de cluster\n",
    "\n",
    "kmeans = KMeans(n_clusters=k, random_state=42)\n",
    "kmeans.fit(tfidf_matrix)\n",
    "\n",
    "\n",
    "labels = kmeans.labels_\n",
    "cluster_labels = {}\n",
    "for i in range(k):\n",
    "    cluster_labels[i] = df['IsToxic'][labels == i].mode()[0]\n",
    "\n",
    "\n",
    "new_tfidf_matrix = vectorizer.transform(text)\n",
    "new_labels = kmeans.predict(new_tfidf_matrix)\n",
    "predicted_labels = [cluster_labels[label] for label in new_labels]\n",
    "\n",
    "\n",
    "i=0\n",
    "j=0\n",
    "k=0\n",
    "for comment, label in zip(text, predicted_labels):\n",
    "    if label==df['IsRacist'][k]:\n",
    "        j=j+1\n",
    "    k=k+1\n",
    "print(j)"
   ]
  },
  {
   "cell_type": "code",
   "execution_count": null,
   "metadata": {
    "id": "kptCa4KcUDVy",
    "outputId": "4a6c2998-f9c8-4d36-ba73-ea4fd2031fe7"
   },
   "outputs": [
    {
     "data": {
      "text/html": [
       "<style>#sk-container-id-2 {color: black;background-color: white;}#sk-container-id-2 pre{padding: 0;}#sk-container-id-2 div.sk-toggleable {background-color: white;}#sk-container-id-2 label.sk-toggleable__label {cursor: pointer;display: block;width: 100%;margin-bottom: 0;padding: 0.3em;box-sizing: border-box;text-align: center;}#sk-container-id-2 label.sk-toggleable__label-arrow:before {content: \"▸\";float: left;margin-right: 0.25em;color: #696969;}#sk-container-id-2 label.sk-toggleable__label-arrow:hover:before {color: black;}#sk-container-id-2 div.sk-estimator:hover label.sk-toggleable__label-arrow:before {color: black;}#sk-container-id-2 div.sk-toggleable__content {max-height: 0;max-width: 0;overflow: hidden;text-align: left;background-color: #f0f8ff;}#sk-container-id-2 div.sk-toggleable__content pre {margin: 0.2em;color: black;border-radius: 0.25em;background-color: #f0f8ff;}#sk-container-id-2 input.sk-toggleable__control:checked~div.sk-toggleable__content {max-height: 200px;max-width: 100%;overflow: auto;}#sk-container-id-2 input.sk-toggleable__control:checked~label.sk-toggleable__label-arrow:before {content: \"▾\";}#sk-container-id-2 div.sk-estimator input.sk-toggleable__control:checked~label.sk-toggleable__label {background-color: #d4ebff;}#sk-container-id-2 div.sk-label input.sk-toggleable__control:checked~label.sk-toggleable__label {background-color: #d4ebff;}#sk-container-id-2 input.sk-hidden--visually {border: 0;clip: rect(1px 1px 1px 1px);clip: rect(1px, 1px, 1px, 1px);height: 1px;margin: -1px;overflow: hidden;padding: 0;position: absolute;width: 1px;}#sk-container-id-2 div.sk-estimator {font-family: monospace;background-color: #f0f8ff;border: 1px dotted black;border-radius: 0.25em;box-sizing: border-box;margin-bottom: 0.5em;}#sk-container-id-2 div.sk-estimator:hover {background-color: #d4ebff;}#sk-container-id-2 div.sk-parallel-item::after {content: \"\";width: 100%;border-bottom: 1px solid gray;flex-grow: 1;}#sk-container-id-2 div.sk-label:hover label.sk-toggleable__label {background-color: #d4ebff;}#sk-container-id-2 div.sk-serial::before {content: \"\";position: absolute;border-left: 1px solid gray;box-sizing: border-box;top: 0;bottom: 0;left: 50%;z-index: 0;}#sk-container-id-2 div.sk-serial {display: flex;flex-direction: column;align-items: center;background-color: white;padding-right: 0.2em;padding-left: 0.2em;position: relative;}#sk-container-id-2 div.sk-item {position: relative;z-index: 1;}#sk-container-id-2 div.sk-parallel {display: flex;align-items: stretch;justify-content: center;background-color: white;position: relative;}#sk-container-id-2 div.sk-item::before, #sk-container-id-2 div.sk-parallel-item::before {content: \"\";position: absolute;border-left: 1px solid gray;box-sizing: border-box;top: 0;bottom: 0;left: 50%;z-index: -1;}#sk-container-id-2 div.sk-parallel-item {display: flex;flex-direction: column;z-index: 1;position: relative;background-color: white;}#sk-container-id-2 div.sk-parallel-item:first-child::after {align-self: flex-end;width: 50%;}#sk-container-id-2 div.sk-parallel-item:last-child::after {align-self: flex-start;width: 50%;}#sk-container-id-2 div.sk-parallel-item:only-child::after {width: 0;}#sk-container-id-2 div.sk-dashed-wrapped {border: 1px dashed gray;margin: 0 0.4em 0.5em 0.4em;box-sizing: border-box;padding-bottom: 0.4em;background-color: white;}#sk-container-id-2 div.sk-label label {font-family: monospace;font-weight: bold;display: inline-block;line-height: 1.2em;}#sk-container-id-2 div.sk-label-container {text-align: center;}#sk-container-id-2 div.sk-container {/* jupyter's `normalize.less` sets `[hidden] { display: none; }` but bootstrap.min.css set `[hidden] { display: none !important; }` so we also need the `!important` here to be able to override the default hidden behavior on the sphinx rendered scikit-learn.org. See: https://github.com/scikit-learn/scikit-learn/issues/21755 */display: inline-block !important;position: relative;}#sk-container-id-2 div.sk-text-repr-fallback {display: none;}</style><div id=\"sk-container-id-2\" class=\"sk-top-container\"><div class=\"sk-text-repr-fallback\"><pre>KMeans(n_clusters=2, random_state=42)</pre><b>In a Jupyter environment, please rerun this cell to show the HTML representation or trust the notebook. <br />On GitHub, the HTML representation is unable to render, please try loading this page with nbviewer.org.</b></div><div class=\"sk-container\" hidden><div class=\"sk-item\"><div class=\"sk-estimator sk-toggleable\"><input class=\"sk-toggleable__control sk-hidden--visually\" id=\"sk-estimator-id-2\" type=\"checkbox\" checked><label for=\"sk-estimator-id-2\" class=\"sk-toggleable__label sk-toggleable__label-arrow\">KMeans</label><div class=\"sk-toggleable__content\"><pre>KMeans(n_clusters=2, random_state=42)</pre></div></div></div></div></div>"
      ],
      "text/plain": [
       "KMeans(n_clusters=2, random_state=42)"
      ]
     },
     "execution_count": 33,
     "metadata": {},
     "output_type": "execute_result"
    }
   ],
   "source": []
  },
  {
   "cell_type": "code",
   "execution_count": null,
   "metadata": {
    "id": "EXzhXhIZUDZm"
   },
   "outputs": [],
   "source": []
  },
  {
   "cell_type": "markdown",
   "metadata": {
    "id": "joZ8zWOuxD-J"
   },
   "source": []
  }
 ],
 "metadata": {
  "colab": {
   "provenance": []
  },
  "kernelspec": {
   "display_name": "Python 3 (ipykernel)",
   "language": "python",
   "name": "python3"
  },
  "language_info": {
   "codemirror_mode": {
    "name": "ipython",
    "version": 3
   },
   "file_extension": ".py",
   "mimetype": "text/x-python",
   "name": "python",
   "nbconvert_exporter": "python",
   "pygments_lexer": "ipython3",
   "version": "3.9.13"
  }
 },
 "nbformat": 4,
 "nbformat_minor": 1
}
